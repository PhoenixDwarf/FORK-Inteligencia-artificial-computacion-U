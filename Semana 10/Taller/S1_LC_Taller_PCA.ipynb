{
 "cells": [
  {
   "cell_type": "markdown",
   "metadata": {},
   "source": [
    "<div >\n",
    "<img src = \"figs/ans_banner_1920x200.png\" />\n",
    "</div>"
   ]
  },
  {
   "cell_type": "markdown",
   "metadata": {},
   "source": [
    "# Caso-taller:  PCA para estudiar la dimensionalidad de la calidad de vida en las ciudades "
   ]
  },
  {
   "cell_type": "markdown",
   "metadata": {},
   "source": [
    "En este caso-taller vamos a aplicar PCA en el estudio de calidad de vida en diferentes ciudades. Para ello, haremos uso de los datos que surgen del Almanaque Calificado de Lugares. En este Almanaque Boyer y Savageau calificaron 329 ciudades de acuerdo con los siguientes nueve criterios:\n",
    "\n",
    "   - Clima y Terreno\n",
    "   - Alojamiento\n",
    "   - Cuidado de la salud y el medio ambiente\n",
    "   - Crimen\n",
    "   - Transporte\n",
    "   - Educación\n",
    "   - Artes\n",
    "   - Recreación\n",
    "   - Economía \n",
    "\n",
    "\n",
    "Con tantas variables disponibles, la matriz de dispersión puede resultar muy grande para estudiarla e interpretarla adecuadamente. Habría demasiadas correlaciones por pares entre las variables para considerar. Para interpretar los datos de una forma más significativa es necesario reducir el número de variables a unas pocas dimensiones, y para ello en este ejercicio recurriremos al análisis de componentes principales. \n",
    " "
   ]
  },
  {
   "cell_type": "markdown",
   "metadata": {},
   "source": [
    "## Instrucciones generales"
   ]
  },
  {
   "cell_type": "markdown",
   "metadata": {},
   "source": [
    "1. Para desarrollar el *cuaderno* primero debe descargarlo junto al archivo de soporte.\n",
    "\n",
    "2. Para responder cada inciso deberá utilizar el espacio debidamente especificado.\n",
    "\n",
    "3. La actividad será calificada sólo si sube el *cuaderno* de jupyter notebook con extensión `.ipynb` en la actividad designada como \"entrega calificada por el personal\".\n",
    "\n",
    "4. El archivo entregado debe poder ser ejecutado localmente por el tutor. Sea cuidadoso con la especificación de la ubicación de los archivos de soporte, guarde la carpeta de datos en la misma ruta de acceso del cuaderno, por ejemplo: `data/archivo_de_soporte.csv`."
   ]
  },
  {
   "cell_type": "markdown",
   "metadata": {},
   "source": [
    "## Desarrollo\n"
   ]
  },
  {
   "cell_type": "markdown",
   "metadata": {},
   "source": [
    "### 1. Carga de datos\n",
    "\n",
    "En la carpeta `data` se encuentra el archivo `lugares.csv` cargue estos datos en su *cuaderno*."
   ]
  },
  {
   "cell_type": "code",
   "execution_count": 8,
   "metadata": {},
   "outputs": [
    {
     "data": {
      "text/html": [
       "<div>\n",
       "<style scoped>\n",
       "    .dataframe tbody tr th:only-of-type {\n",
       "        vertical-align: middle;\n",
       "    }\n",
       "\n",
       "    .dataframe tbody tr th {\n",
       "        vertical-align: top;\n",
       "    }\n",
       "\n",
       "    .dataframe thead th {\n",
       "        text-align: right;\n",
       "    }\n",
       "</style>\n",
       "<table border=\"1\" class=\"dataframe\">\n",
       "  <thead>\n",
       "    <tr style=\"text-align: right;\">\n",
       "      <th></th>\n",
       "      <th>Clima y Terreno</th>\n",
       "      <th>Alojamiento</th>\n",
       "      <th>Cuidado de la salud y el medio ambiente</th>\n",
       "      <th>Crimen</th>\n",
       "      <th>Transporte</th>\n",
       "      <th>Educación</th>\n",
       "      <th>Artes</th>\n",
       "      <th>Recreación</th>\n",
       "      <th>Economía</th>\n",
       "    </tr>\n",
       "    <tr>\n",
       "      <th>Ciudad</th>\n",
       "      <th></th>\n",
       "      <th></th>\n",
       "      <th></th>\n",
       "      <th></th>\n",
       "      <th></th>\n",
       "      <th></th>\n",
       "      <th></th>\n",
       "      <th></th>\n",
       "      <th></th>\n",
       "    </tr>\n",
       "  </thead>\n",
       "  <tbody>\n",
       "    <tr>\n",
       "      <th>Abilene,TX</th>\n",
       "      <td>521</td>\n",
       "      <td>6200</td>\n",
       "      <td>237</td>\n",
       "      <td>923</td>\n",
       "      <td>4031</td>\n",
       "      <td>2757</td>\n",
       "      <td>996</td>\n",
       "      <td>1405</td>\n",
       "      <td>7633</td>\n",
       "    </tr>\n",
       "    <tr>\n",
       "      <th>Akron,OH</th>\n",
       "      <td>575</td>\n",
       "      <td>8138</td>\n",
       "      <td>1656</td>\n",
       "      <td>886</td>\n",
       "      <td>4883</td>\n",
       "      <td>2438</td>\n",
       "      <td>5564</td>\n",
       "      <td>2632</td>\n",
       "      <td>4350</td>\n",
       "    </tr>\n",
       "    <tr>\n",
       "      <th>Albany,GA</th>\n",
       "      <td>468</td>\n",
       "      <td>7339</td>\n",
       "      <td>618</td>\n",
       "      <td>970</td>\n",
       "      <td>2531</td>\n",
       "      <td>2560</td>\n",
       "      <td>237</td>\n",
       "      <td>859</td>\n",
       "      <td>5250</td>\n",
       "    </tr>\n",
       "    <tr>\n",
       "      <th>Albany-Schenectady-Troy,NY</th>\n",
       "      <td>476</td>\n",
       "      <td>7908</td>\n",
       "      <td>1431</td>\n",
       "      <td>610</td>\n",
       "      <td>6883</td>\n",
       "      <td>3399</td>\n",
       "      <td>4655</td>\n",
       "      <td>1617</td>\n",
       "      <td>5864</td>\n",
       "    </tr>\n",
       "    <tr>\n",
       "      <th>Albuquerque,NM</th>\n",
       "      <td>659</td>\n",
       "      <td>8393</td>\n",
       "      <td>1853</td>\n",
       "      <td>1483</td>\n",
       "      <td>6558</td>\n",
       "      <td>3026</td>\n",
       "      <td>4496</td>\n",
       "      <td>2612</td>\n",
       "      <td>5727</td>\n",
       "    </tr>\n",
       "  </tbody>\n",
       "</table>\n",
       "</div>"
      ],
      "text/plain": [
       "                            Clima y Terreno  Alojamiento  \\\n",
       "Ciudad                                                     \n",
       "Abilene,TX                              521         6200   \n",
       "Akron,OH                                575         8138   \n",
       "Albany,GA                               468         7339   \n",
       "Albany-Schenectady-Troy,NY              476         7908   \n",
       "Albuquerque,NM                          659         8393   \n",
       "\n",
       "                            Cuidado de la salud y el medio ambiente  Crimen  \\\n",
       "Ciudad                                                                        \n",
       "Abilene,TX                                                      237     923   \n",
       "Akron,OH                                                       1656     886   \n",
       "Albany,GA                                                       618     970   \n",
       "Albany-Schenectady-Troy,NY                                     1431     610   \n",
       "Albuquerque,NM                                                 1853    1483   \n",
       "\n",
       "                            Transporte  Educación  Artes  Recreación  Economía  \n",
       "Ciudad                                                                          \n",
       "Abilene,TX                        4031       2757    996        1405      7633  \n",
       "Akron,OH                          4883       2438   5564        2632      4350  \n",
       "Albany,GA                         2531       2560    237         859      5250  \n",
       "Albany-Schenectady-Troy,NY        6883       3399   4655        1617      5864  \n",
       "Albuquerque,NM                    6558       3026   4496        2612      5727  "
      ]
     },
     "execution_count": 8,
     "metadata": {},
     "output_type": "execute_result"
    }
   ],
   "source": [
    "# Utilice este espacio para escribir el código.\n",
    "\n",
    "#Cargamos las librerías a utilizar\n",
    "import pandas as pd\n",
    "import numpy as np\n",
    "\n",
    "\n",
    "# Cargamos y visualizamos la primeras observaciones de los datos\n",
    "lugares = pd.read_csv('lugares.csv')\n",
    "lugares = lugares.set_index('Ciudad')\n",
    "lugares.head()"
   ]
  },
  {
   "cell_type": "markdown",
   "id": "56b415cb",
   "metadata": {
    "vscode": {
     "languageId": "raw"
    }
   },
   "source": [
    "(Utilice este espacio para describir su procedimiento)\n",
    "\n",
    "1. Importar las librerías necesarias\n",
    "2. Definir lugares mediante `pd.read_csv()` para leer el archivo CSV\n",
    "3. Establecer el indice del dataframe a partir de la columna `Ciudad`\n",
    "4. Mostar los primeros lugares del DataFrame"
   ]
  },
  {
   "cell_type": "markdown",
   "metadata": {},
   "source": [
    "### 2.  Análisis descriptivo de las variables. \n",
    "\n",
    "Para el análisis descriptivo haga uso de estadísticas descriptivas y matrices de correlación. Indique además cuantas gráficas de dispersión bivariadas debería examinar con este número de variables. \n",
    "\n",
    "Explique porqué es importante conocer las estadísticas descriptivas y como contribuyen al ejercicio posterior de Análisis de Componentes Principales.\n",
    " \n",
    "Tenga en cuenta que para las variables, a excepción de la alojamiento y crimen, cuanto mayor sea el puntaje, mejor. Por el contrario; para alojamiento y crimen, mientras más bajo sea el puntaje, mejor. También, mientras algunas comunidades podrían calificar mejor en las artes, otras podrían calificar mejor en otras áreas como tener una tasa de criminalidad más baja y buenas oportunidades educativas."
   ]
  },
  {
   "cell_type": "code",
   "execution_count": 6,
   "id": "a27f1722",
   "metadata": {},
   "outputs": [
    {
     "name": "stdout",
     "output_type": "stream",
     "text": [
      "       Clima y Terreno   Alojamiento  Cuidado de la salud y el medio ambiente  \\\n",
      "count       329.000000    329.000000                               329.000000   \n",
      "mean        538.732523   8346.559271                              1185.738602   \n",
      "std         120.808259   2385.262622                              1003.002036   \n",
      "min         105.000000   5159.000000                                43.000000   \n",
      "25%         480.000000   6760.000000                               583.000000   \n",
      "50%         542.000000   7877.000000                               833.000000   \n",
      "75%         592.000000   9015.000000                              1445.000000   \n",
      "max         910.000000  23640.000000                              7850.000000   \n",
      "\n",
      "            Crimen   Transporte    Educación         Artes   Recreación  \\\n",
      "count   329.000000   329.000000   329.000000    329.000000   329.000000   \n",
      "mean    961.054711  4210.082067  2814.887538   3150.884498  1845.957447   \n",
      "std     357.154186  1451.179240   320.792953   4642.283738   807.888171   \n",
      "min     308.000000  1145.000000  1701.000000     52.000000   300.000000   \n",
      "25%     707.000000  3141.000000  2619.000000    778.000000  1316.000000   \n",
      "50%     947.000000  4080.000000  2794.000000   1871.000000  1670.000000   \n",
      "75%    1156.000000  5205.000000  3012.000000   3844.000000  2176.000000   \n",
      "max    2498.000000  8625.000000  3781.000000  56745.000000  4800.000000   \n",
      "\n",
      "          Economía  \n",
      "count   329.000000  \n",
      "mean   5525.364742  \n",
      "std    1084.468523  \n",
      "min    3045.000000  \n",
      "25%    4842.000000  \n",
      "50%    5384.000000  \n",
      "75%    6113.000000  \n",
      "max    9980.000000  \n",
      "-----------------------------------------------------------------------------------\n",
      "                                         Clima y Terreno  Alojamiento  \\\n",
      "Clima y Terreno                                 1.000000     0.386291   \n",
      "Alojamiento                                     0.386291     1.000000   \n",
      "Cuidado de la salud y el medio ambiente         0.213303     0.453010   \n",
      "Crimen                                          0.192387     0.134222   \n",
      "Transporte                                      0.079120     0.271922   \n",
      "Educación                                       0.064520     0.197934   \n",
      "Artes                                           0.226974     0.448568   \n",
      "Recreación                                      0.213509     0.422288   \n",
      "Economía                                       -0.100083     0.269433   \n",
      "\n",
      "                                         Cuidado de la salud y el medio ambiente  \\\n",
      "Clima y Terreno                                                         0.213303   \n",
      "Alojamiento                                                             0.453010   \n",
      "Cuidado de la salud y el medio ambiente                                 1.000000   \n",
      "Crimen                                                                  0.304659   \n",
      "Transporte                                                              0.470317   \n",
      "Educación                                                               0.490234   \n",
      "Artes                                                                   0.865796   \n",
      "Recreación                                                              0.325397   \n",
      "Economía                                                                0.069271   \n",
      "\n",
      "                                           Crimen  Transporte  Educación  \\\n",
      "Clima y Terreno                          0.192387    0.079120   0.064520   \n",
      "Alojamiento                              0.134222    0.271922   0.197934   \n",
      "Cuidado de la salud y el medio ambiente  0.304659    0.470317   0.490234   \n",
      "Crimen                                   1.000000    0.286578   0.074416   \n",
      "Transporte                               0.286578    1.000000   0.335992   \n",
      "Educación                                0.074416    0.335992   1.000000   \n",
      "Artes                                    0.389483    0.464806   0.373279   \n",
      "Recreación                               0.344627    0.364716   0.077807   \n",
      "Economía                                 0.259995    0.059247   0.119700   \n",
      "\n",
      "                                            Artes  Recreación  Economía  \n",
      "Clima y Terreno                          0.226974    0.213509 -0.100083  \n",
      "Alojamiento                              0.448568    0.422288  0.269433  \n",
      "Cuidado de la salud y el medio ambiente  0.865796    0.325397  0.069271  \n",
      "Crimen                                   0.389483    0.344627  0.259995  \n",
      "Transporte                               0.464806    0.364716  0.059247  \n",
      "Educación                                0.373279    0.077807  0.119700  \n",
      "Artes                                    1.000000    0.378659  0.075673  \n",
      "Recreación                               0.378659    1.000000  0.173531  \n",
      "Economía                                 0.075673    0.173531  1.000000  \n",
      "-----------------------------------------------------------------------------------\n",
      "\n",
      "Número de gráficas de dispersión bivariadas: 36\n"
     ]
    }
   ],
   "source": [
    "# Utilice este espacio para escribir el código.\n",
    "\n",
    "# Estadísticas descriptivas\n",
    "descriptive_stats = lugares.describe()\n",
    "print(descriptive_stats)\n",
    "print('-----------------------------------------------------------------------------------')\n",
    "\n",
    "# Matriz de correlación\n",
    "correlation_matrix = lugares.corr()\n",
    "print(correlation_matrix)\n",
    "print('-----------------------------------------------------------------------------------')\n",
    "\n",
    "# Número de gráficas de dispersión bivariadas\n",
    "num_variables = lugares.shape[1]\n",
    "num_scatter_plots = (num_variables * (num_variables - 1)) // 2\n",
    "print()\n",
    "print(f'Número de gráficas de dispersión bivariadas: {num_scatter_plots}')"
   ]
  },
  {
   "cell_type": "markdown",
   "id": "f9ecbfca",
   "metadata": {},
   "source": [
    "(Utilice este espacio para describir el procedimiento, análisis y conclusiones).\n",
    "\n",
    "1. Generar e imprimir estadísticas descriptivas para el DataFrame `lugares`. La función `describe()` calcula métricas como la media, desviación estándar, valores mínimos, máximos y percentiles para cada columna del DataFrame.\n",
    "2. Generar la matriz de correlación para el DataFrame lugares. Un valor cercano a 0 indica poca o ninguna correlación.\n",
    "3. Calcular y mostrar el número total de gráficas de dispersión bivariadas posibles entre las variables. Esto se basa en la fórmula de combinaciones para elegir 2 variables de un total de `num_variables`.\n"
   ]
  },
  {
   "cell_type": "markdown",
   "id": "3a7e4165",
   "metadata": {},
   "source": [
    "### 3.  Cálculo y selección de componentes principales.\n",
    "\n",
    "Utilizando Álgebra Lineal, calcule los eigen valores y los eigen vectores, a partir de ellos obtenga los Componentes Principales. Tenga en cuenta de estandarizar las variables y explicar por qué es importante no omitir este paso. \n",
    "\n",
    "Luego, examine los valores propios para determinar cuántos componentes principales se deben considerar. Explique el criterio que utilizó para la elección y justifique su respuesta."
   ]
  },
  {
   "cell_type": "code",
   "execution_count": 11,
   "metadata": {},
   "outputs": [
    {
     "data": {
      "text/html": [
       "<div>\n",
       "<style scoped>\n",
       "    .dataframe tbody tr th:only-of-type {\n",
       "        vertical-align: middle;\n",
       "    }\n",
       "\n",
       "    .dataframe tbody tr th {\n",
       "        vertical-align: top;\n",
       "    }\n",
       "\n",
       "    .dataframe thead th {\n",
       "        text-align: right;\n",
       "    }\n",
       "</style>\n",
       "<table border=\"1\" class=\"dataframe\">\n",
       "  <thead>\n",
       "    <tr style=\"text-align: right;\">\n",
       "      <th></th>\n",
       "      <th>Clima y Terreno</th>\n",
       "      <th>Alojamiento</th>\n",
       "      <th>Cuidado de la salud y el medio ambiente</th>\n",
       "      <th>Crimen</th>\n",
       "      <th>Transporte</th>\n",
       "      <th>Educación</th>\n",
       "      <th>Artes</th>\n",
       "      <th>Recreación</th>\n",
       "      <th>Economía</th>\n",
       "    </tr>\n",
       "    <tr>\n",
       "      <th>Ciudad</th>\n",
       "      <th></th>\n",
       "      <th></th>\n",
       "      <th></th>\n",
       "      <th></th>\n",
       "      <th></th>\n",
       "      <th></th>\n",
       "      <th></th>\n",
       "      <th></th>\n",
       "      <th></th>\n",
       "    </tr>\n",
       "  </thead>\n",
       "  <tbody>\n",
       "    <tr>\n",
       "      <th>Abilene,TX</th>\n",
       "      <td>-0.146782</td>\n",
       "      <td>-0.899926</td>\n",
       "      <td>-0.945899</td>\n",
       "      <td>-0.106550</td>\n",
       "      <td>-0.123405</td>\n",
       "      <td>-0.180451</td>\n",
       "      <td>-0.464186</td>\n",
       "      <td>-0.545815</td>\n",
       "      <td>1.943473</td>\n",
       "    </tr>\n",
       "    <tr>\n",
       "      <th>Akron,OH</th>\n",
       "      <td>0.300207</td>\n",
       "      <td>-0.087437</td>\n",
       "      <td>0.468854</td>\n",
       "      <td>-0.210147</td>\n",
       "      <td>0.463704</td>\n",
       "      <td>-1.174862</td>\n",
       "      <td>0.519812</td>\n",
       "      <td>0.972960</td>\n",
       "      <td>-1.083816</td>\n",
       "    </tr>\n",
       "    <tr>\n",
       "      <th>Albany,GA</th>\n",
       "      <td>-0.585494</td>\n",
       "      <td>-0.422410</td>\n",
       "      <td>-0.566039</td>\n",
       "      <td>0.025046</td>\n",
       "      <td>-1.157047</td>\n",
       "      <td>-0.794555</td>\n",
       "      <td>-0.627683</td>\n",
       "      <td>-1.221651</td>\n",
       "      <td>-0.253917</td>\n",
       "    </tr>\n",
       "    <tr>\n",
       "      <th>Albany-Schenectady-Troy,NY</th>\n",
       "      <td>-0.519273</td>\n",
       "      <td>-0.183862</td>\n",
       "      <td>0.244527</td>\n",
       "      <td>-0.982922</td>\n",
       "      <td>1.841894</td>\n",
       "      <td>1.820839</td>\n",
       "      <td>0.324003</td>\n",
       "      <td>-0.283402</td>\n",
       "      <td>0.312259</td>\n",
       "    </tr>\n",
       "    <tr>\n",
       "      <th>Albuquerque,NM</th>\n",
       "      <td>0.995524</td>\n",
       "      <td>0.019470</td>\n",
       "      <td>0.665264</td>\n",
       "      <td>1.461400</td>\n",
       "      <td>1.617938</td>\n",
       "      <td>0.658096</td>\n",
       "      <td>0.289753</td>\n",
       "      <td>0.948204</td>\n",
       "      <td>0.185930</td>\n",
       "    </tr>\n",
       "  </tbody>\n",
       "</table>\n",
       "</div>"
      ],
      "text/plain": [
       "                            Clima y Terreno  Alojamiento  \\\n",
       "Ciudad                                                     \n",
       "Abilene,TX                        -0.146782    -0.899926   \n",
       "Akron,OH                           0.300207    -0.087437   \n",
       "Albany,GA                         -0.585494    -0.422410   \n",
       "Albany-Schenectady-Troy,NY        -0.519273    -0.183862   \n",
       "Albuquerque,NM                     0.995524     0.019470   \n",
       "\n",
       "                            Cuidado de la salud y el medio ambiente    Crimen  \\\n",
       "Ciudad                                                                          \n",
       "Abilene,TX                                                -0.945899 -0.106550   \n",
       "Akron,OH                                                   0.468854 -0.210147   \n",
       "Albany,GA                                                 -0.566039  0.025046   \n",
       "Albany-Schenectady-Troy,NY                                 0.244527 -0.982922   \n",
       "Albuquerque,NM                                             0.665264  1.461400   \n",
       "\n",
       "                            Transporte  Educación     Artes  Recreación  \\\n",
       "Ciudad                                                                    \n",
       "Abilene,TX                   -0.123405  -0.180451 -0.464186   -0.545815   \n",
       "Akron,OH                      0.463704  -1.174862  0.519812    0.972960   \n",
       "Albany,GA                    -1.157047  -0.794555 -0.627683   -1.221651   \n",
       "Albany-Schenectady-Troy,NY    1.841894   1.820839  0.324003   -0.283402   \n",
       "Albuquerque,NM                1.617938   0.658096  0.289753    0.948204   \n",
       "\n",
       "                            Economía  \n",
       "Ciudad                                \n",
       "Abilene,TX                  1.943473  \n",
       "Akron,OH                   -1.083816  \n",
       "Albany,GA                  -0.253917  \n",
       "Albany-Schenectady-Troy,NY  0.312259  \n",
       "Albuquerque,NM              0.185930  "
      ]
     },
     "execution_count": 11,
     "metadata": {},
     "output_type": "execute_result"
    }
   ],
   "source": [
    "# Utilice este espacio para escribir el código.\n",
    "\n",
    "# Estandarizamos los datos\n",
    "mu = lugares.mean()\n",
    "sigma = lugares.std()\n",
    "Z = (lugares - mu)/sigma\n",
    "Z.head()"
   ]
  },
  {
   "cell_type": "code",
   "execution_count": 13,
   "id": "365ea63c",
   "metadata": {},
   "outputs": [
    {
     "data": {
      "text/html": [
       "<div>\n",
       "<style scoped>\n",
       "    .dataframe tbody tr th:only-of-type {\n",
       "        vertical-align: middle;\n",
       "    }\n",
       "\n",
       "    .dataframe tbody tr th {\n",
       "        vertical-align: top;\n",
       "    }\n",
       "\n",
       "    .dataframe thead th {\n",
       "        text-align: right;\n",
       "    }\n",
       "</style>\n",
       "<table border=\"1\" class=\"dataframe\">\n",
       "  <thead>\n",
       "    <tr style=\"text-align: right;\">\n",
       "      <th></th>\n",
       "      <th>Clima y Terreno</th>\n",
       "      <th>Alojamiento</th>\n",
       "      <th>Cuidado de la salud y el medio ambiente</th>\n",
       "      <th>Crimen</th>\n",
       "      <th>Transporte</th>\n",
       "      <th>Educación</th>\n",
       "      <th>Artes</th>\n",
       "      <th>Recreación</th>\n",
       "      <th>Economía</th>\n",
       "    </tr>\n",
       "  </thead>\n",
       "  <tbody>\n",
       "    <tr>\n",
       "      <th>Clima y Terreno</th>\n",
       "      <td>14594.635555</td>\n",
       "      <td>1.113133e+05</td>\n",
       "      <td>2.584607e+04</td>\n",
       "      <td>8300.968947</td>\n",
       "      <td>1.387087e+04</td>\n",
       "      <td>2500.427144</td>\n",
       "      <td>1.272931e+05</td>\n",
       "      <td>2.083839e+04</td>\n",
       "      <td>-1.311212e+04</td>\n",
       "    </tr>\n",
       "    <tr>\n",
       "      <th>Alojamiento</th>\n",
       "      <td>111313.305536</td>\n",
       "      <td>5.689478e+06</td>\n",
       "      <td>1.083791e+06</td>\n",
       "      <td>114344.310772</td>\n",
       "      <td>9.412409e+05</td>\n",
       "      <td>151454.127113</td>\n",
       "      <td>4.967020e+06</td>\n",
       "      <td>8.137605e+05</td>\n",
       "      <td>6.969531e+05</td>\n",
       "    </tr>\n",
       "    <tr>\n",
       "      <th>Cuidado de la salud y el medio ambiente</th>\n",
       "      <td>25846.067064</td>\n",
       "      <td>1.083791e+06</td>\n",
       "      <td>1.006013e+06</td>\n",
       "      <td>109137.041784</td>\n",
       "      <td>6.845633e+05</td>\n",
       "      <td>157735.732708</td>\n",
       "      <td>4.031337e+06</td>\n",
       "      <td>2.636735e+05</td>\n",
       "      <td>7.534745e+04</td>\n",
       "    </tr>\n",
       "    <tr>\n",
       "      <th>Crimen</th>\n",
       "      <td>8300.968947</td>\n",
       "      <td>1.143443e+05</td>\n",
       "      <td>1.091370e+05</td>\n",
       "      <td>127559.112851</td>\n",
       "      <td>1.485321e+05</td>\n",
       "      <td>8526.061050</td>\n",
       "      <td>6.457665e+05</td>\n",
       "      <td>9.943876e+04</td>\n",
       "      <td>1.007018e+05</td>\n",
       "    </tr>\n",
       "    <tr>\n",
       "      <th>Transporte</th>\n",
       "      <td>13870.866530</td>\n",
       "      <td>9.412409e+05</td>\n",
       "      <td>6.845633e+05</td>\n",
       "      <td>148532.093057</td>\n",
       "      <td>2.105921e+06</td>\n",
       "      <td>156413.939136</td>\n",
       "      <td>3.131296e+06</td>\n",
       "      <td>4.275899e+05</td>\n",
       "      <td>9.324006e+04</td>\n",
       "    </tr>\n",
       "    <tr>\n",
       "      <th>Educación</th>\n",
       "      <td>2500.427144</td>\n",
       "      <td>1.514541e+05</td>\n",
       "      <td>1.577357e+05</td>\n",
       "      <td>8526.061050</td>\n",
       "      <td>1.564139e+05</td>\n",
       "      <td>102908.118411</td>\n",
       "      <td>5.558915e+05</td>\n",
       "      <td>2.016489e+04</td>\n",
       "      <td>4.164254e+04</td>\n",
       "    </tr>\n",
       "    <tr>\n",
       "      <th>Artes</th>\n",
       "      <td>127293.081817</td>\n",
       "      <td>4.967020e+06</td>\n",
       "      <td>4.031337e+06</td>\n",
       "      <td>645766.475851</td>\n",
       "      <td>3.131296e+06</td>\n",
       "      <td>555891.508312</td>\n",
       "      <td>2.155080e+07</td>\n",
       "      <td>1.420142e+06</td>\n",
       "      <td>3.809705e+05</td>\n",
       "    </tr>\n",
       "    <tr>\n",
       "      <th>Recreación</th>\n",
       "      <td>20838.387974</td>\n",
       "      <td>8.137605e+05</td>\n",
       "      <td>2.636735e+05</td>\n",
       "      <td>99438.764530</td>\n",
       "      <td>4.275899e+05</td>\n",
       "      <td>20164.885444</td>\n",
       "      <td>1.420142e+06</td>\n",
       "      <td>6.526833e+05</td>\n",
       "      <td>1.520352e+05</td>\n",
       "    </tr>\n",
       "    <tr>\n",
       "      <th>Economía</th>\n",
       "      <td>-13112.115557</td>\n",
       "      <td>6.969531e+05</td>\n",
       "      <td>7.534745e+04</td>\n",
       "      <td>100701.794008</td>\n",
       "      <td>9.324006e+04</td>\n",
       "      <td>41642.538096</td>\n",
       "      <td>3.809705e+05</td>\n",
       "      <td>1.520352e+05</td>\n",
       "      <td>1.176072e+06</td>\n",
       "    </tr>\n",
       "  </tbody>\n",
       "</table>\n",
       "</div>"
      ],
      "text/plain": [
       "                                         Clima y Terreno   Alojamiento  \\\n",
       "Clima y Terreno                             14594.635555  1.113133e+05   \n",
       "Alojamiento                                111313.305536  5.689478e+06   \n",
       "Cuidado de la salud y el medio ambiente     25846.067064  1.083791e+06   \n",
       "Crimen                                       8300.968947  1.143443e+05   \n",
       "Transporte                                  13870.866530  9.412409e+05   \n",
       "Educación                                    2500.427144  1.514541e+05   \n",
       "Artes                                      127293.081817  4.967020e+06   \n",
       "Recreación                                  20838.387974  8.137605e+05   \n",
       "Economía                                   -13112.115557  6.969531e+05   \n",
       "\n",
       "                                         Cuidado de la salud y el medio ambiente  \\\n",
       "Clima y Terreno                                                     2.584607e+04   \n",
       "Alojamiento                                                         1.083791e+06   \n",
       "Cuidado de la salud y el medio ambiente                             1.006013e+06   \n",
       "Crimen                                                              1.091370e+05   \n",
       "Transporte                                                          6.845633e+05   \n",
       "Educación                                                           1.577357e+05   \n",
       "Artes                                                               4.031337e+06   \n",
       "Recreación                                                          2.636735e+05   \n",
       "Economía                                                            7.534745e+04   \n",
       "\n",
       "                                                Crimen    Transporte  \\\n",
       "Clima y Terreno                            8300.968947  1.387087e+04   \n",
       "Alojamiento                              114344.310772  9.412409e+05   \n",
       "Cuidado de la salud y el medio ambiente  109137.041784  6.845633e+05   \n",
       "Crimen                                   127559.112851  1.485321e+05   \n",
       "Transporte                               148532.093057  2.105921e+06   \n",
       "Educación                                  8526.061050  1.564139e+05   \n",
       "Artes                                    645766.475851  3.131296e+06   \n",
       "Recreación                                99438.764530  4.275899e+05   \n",
       "Economía                                 100701.794008  9.324006e+04   \n",
       "\n",
       "                                             Educación         Artes  \\\n",
       "Clima y Terreno                            2500.427144  1.272931e+05   \n",
       "Alojamiento                              151454.127113  4.967020e+06   \n",
       "Cuidado de la salud y el medio ambiente  157735.732708  4.031337e+06   \n",
       "Crimen                                     8526.061050  6.457665e+05   \n",
       "Transporte                               156413.939136  3.131296e+06   \n",
       "Educación                                102908.118411  5.558915e+05   \n",
       "Artes                                    555891.508312  2.155080e+07   \n",
       "Recreación                                20164.885444  1.420142e+06   \n",
       "Economía                                  41642.538096  3.809705e+05   \n",
       "\n",
       "                                           Recreación      Economía  \n",
       "Clima y Terreno                          2.083839e+04 -1.311212e+04  \n",
       "Alojamiento                              8.137605e+05  6.969531e+05  \n",
       "Cuidado de la salud y el medio ambiente  2.636735e+05  7.534745e+04  \n",
       "Crimen                                   9.943876e+04  1.007018e+05  \n",
       "Transporte                               4.275899e+05  9.324006e+04  \n",
       "Educación                                2.016489e+04  4.164254e+04  \n",
       "Artes                                    1.420142e+06  3.809705e+05  \n",
       "Recreación                               6.526833e+05  1.520352e+05  \n",
       "Economía                                 1.520352e+05  1.176072e+06  "
      ]
     },
     "execution_count": 13,
     "metadata": {},
     "output_type": "execute_result"
    }
   ],
   "source": [
    "S = lugares.cov()\n",
    "S"
   ]
  },
  {
   "cell_type": "code",
   "execution_count": 14,
   "id": "65b9f551",
   "metadata": {},
   "outputs": [
    {
     "data": {
      "text/plain": [
       "(9, 9)"
      ]
     },
     "execution_count": 14,
     "metadata": {},
     "output_type": "execute_result"
    }
   ],
   "source": [
    "S.shape"
   ]
  },
  {
   "cell_type": "code",
   "execution_count": 15,
   "id": "b9684ca9",
   "metadata": {},
   "outputs": [
    {
     "data": {
      "text/plain": [
       "array([2.44136687e+07, 4.40800485e+06, 1.63803960e+06, 1.07635578e+06,\n",
       "       4.78338268e+05, 1.09626252e+04, 9.28099424e+04, 6.69959016e+04,\n",
       "       2.40851797e+05])"
      ]
     },
     "execution_count": 15,
     "metadata": {},
     "output_type": "execute_result"
    }
   ],
   "source": [
    "eig_val, eig_vec = np.linalg.eig(S)\n",
    "eig_val"
   ]
  },
  {
   "cell_type": "code",
   "execution_count": 16,
   "id": "9f1930a5",
   "metadata": {},
   "outputs": [
    {
     "data": {
      "text/plain": [
       "array([2.44136687e+07, 4.40800485e+06, 1.63803960e+06, 1.07635578e+06,\n",
       "       4.78338268e+05, 1.09626252e+04, 9.28099424e+04, 6.69959016e+04,\n",
       "       2.40851797e+05])"
      ]
     },
     "execution_count": 16,
     "metadata": {},
     "output_type": "execute_result"
    }
   ],
   "source": [
    "eig_val_diag = np.diag(eig_val)\n",
    "eig_val"
   ]
  },
  {
   "cell_type": "code",
   "execution_count": 17,
   "id": "aade7a07",
   "metadata": {},
   "outputs": [
    {
     "data": {
      "text/plain": [
       "array([[ 1.45946356e+04,  1.11313306e+05,  2.58460671e+04,\n",
       "         8.30096895e+03,  1.38708665e+04,  2.50042714e+03,\n",
       "         1.27293082e+05,  2.08383880e+04, -1.31121156e+04],\n",
       "       [ 1.11313306e+05,  5.68947778e+06,  1.08379089e+06,\n",
       "         1.14344311e+05,  9.41240942e+05,  1.51454127e+05,\n",
       "         4.96702042e+06,  8.13760454e+05,  6.96953131e+05],\n",
       "       [ 2.58460671e+04,  1.08379089e+06,  1.00601308e+06,\n",
       "         1.09137042e+05,  6.84563296e+05,  1.57735733e+05,\n",
       "         4.03133688e+06,  2.63673538e+05,  7.53474523e+04],\n",
       "       [ 8.30096895e+03,  1.14344311e+05,  1.09137042e+05,\n",
       "         1.27559113e+05,  1.48532093e+05,  8.52606105e+03,\n",
       "         6.45766476e+05,  9.94387645e+04,  1.00701794e+05],\n",
       "       [ 1.38708665e+04,  9.41240942e+05,  6.84563296e+05,\n",
       "         1.48532093e+05,  2.10592119e+06,  1.56413939e+05,\n",
       "         3.13129553e+06,  4.27589875e+05,  9.32400645e+04],\n",
       "       [ 2.50042714e+03,  1.51454127e+05,  1.57735733e+05,\n",
       "         8.52606105e+03,  1.56413939e+05,  1.02908118e+05,\n",
       "         5.55891508e+05,  2.01648854e+04,  4.16425381e+04],\n",
       "       [ 1.27293082e+05,  4.96702042e+06,  4.03133688e+06,\n",
       "         6.45766476e+05,  3.13129553e+06,  5.55891508e+05,\n",
       "         2.15507983e+07,  1.42014186e+06,  3.80970469e+05],\n",
       "       [ 2.08383880e+04,  8.13760454e+05,  2.63673538e+05,\n",
       "         9.94387645e+04,  4.27589875e+05,  2.01648854e+04,\n",
       "         1.42014186e+06,  6.52683297e+05,  1.52035159e+05],\n",
       "       [-1.31121156e+04,  6.96953131e+05,  7.53474523e+04,\n",
       "         1.00701794e+05,  9.32400645e+04,  4.16425381e+04,\n",
       "         3.80970469e+05,  1.52035159e+05,  1.17607198e+06]])"
      ]
     },
     "execution_count": 17,
     "metadata": {},
     "output_type": "execute_result"
    }
   ],
   "source": [
    "eig_vec.dot(eig_val_diag).dot(eig_vec.T)"
   ]
  },
  {
   "cell_type": "code",
   "execution_count": 18,
   "id": "1d7391d3",
   "metadata": {},
   "outputs": [
    {
     "data": {
      "text/plain": [
       "array([7.52903473e-01, 1.35940329e-01, 5.05161974e-02, 3.31941921e-02,\n",
       "       1.47516765e-02, 3.38081042e-04, 2.86220514e-03, 2.06611500e-03,\n",
       "       7.42773060e-03])"
      ]
     },
     "execution_count": 18,
     "metadata": {},
     "output_type": "execute_result"
    }
   ],
   "source": [
    "eig_val/sum(eig_val)"
   ]
  },
  {
   "cell_type": "markdown",
   "metadata": {},
   "source": [
    "(Utilice este espacio para describir el procedimiento, análisis, y conclusiones)."
   ]
  },
  {
   "cell_type": "markdown",
   "metadata": {},
   "source": [
    "### 4.  Interpretación de los componentes principales. \n",
    "\n",
    "Logró reducir la dimensión en el ejercicio anterior? Si lo hizo, los pesos obtenidos pueden identificar dimensiones menores de los datos? Dé una interpretación a estas dimensiones, para ello puede utilizar gráficas, tablas, etc."
   ]
  },
  {
   "cell_type": "code",
   "execution_count": 5,
   "metadata": {},
   "outputs": [],
   "source": [
    "# Utilice este espacio para escribir el código."
   ]
  },
  {
   "cell_type": "markdown",
   "metadata": {},
   "source": [
    "(Utilice este espacio para describir el procedimiento, análisis, y conclusiones)."
   ]
  },
  {
   "cell_type": "markdown",
   "metadata": {},
   "source": [
    "### 5.   Detección de ciudades inusuales.\n",
    "\n",
    "A partir de los Componentes Principales identifique las 5 ciudades calidad de vida inusualmente alta. En la distribución de calidad de vida  de la muestra que tan inusuales son? Cuáles son las dimensiones que hacen que estas ciudades tengan esta calidad de vida inusual?"
   ]
  },
  {
   "cell_type": "code",
   "execution_count": 6,
   "metadata": {},
   "outputs": [],
   "source": [
    "# Utilice este espacio para escribir el código."
   ]
  },
  {
   "cell_type": "markdown",
   "metadata": {},
   "source": [
    "(Utilice este espacio para describir el procedimiento, análisis, y conclusiones)."
   ]
  }
 ],
 "metadata": {
  "kernelspec": {
   "display_name": "Python 3",
   "language": "python",
   "name": "python3"
  },
  "language_info": {
   "codemirror_mode": {
    "name": "ipython",
    "version": 3
   },
   "file_extension": ".py",
   "mimetype": "text/x-python",
   "name": "python",
   "nbconvert_exporter": "python",
   "pygments_lexer": "ipython3",
   "version": "3.12.10"
  },
  "toc": {
   "base_numbering": 1,
   "nav_menu": {},
   "number_sections": true,
   "sideBar": true,
   "skip_h1_title": false,
   "title_cell": "Table of Contents",
   "title_sidebar": "Contents",
   "toc_cell": false,
   "toc_position": {},
   "toc_section_display": true,
   "toc_window_display": false
  }
 },
 "nbformat": 4,
 "nbformat_minor": 5
}
